{
 "cells": [
  {
   "cell_type": "markdown",
   "id": "e91e4b21",
   "metadata": {},
   "source": [
    "# <span style='color:darkorchid'> A/B test for an online retailer <br> Comparing Literacy Rates </span>"
   ]
  },
  {
   "cell_type": "markdown",
   "id": "c8917756",
   "metadata": {},
   "source": [
    "## Project Overview\n",
    "\n",
    "Decco is an online retailer that sells home decor items. They recently added ‘Lamps’  as a new category of products which they were not selling before. To generate awareness and boost sales, they want to promote their App. \n",
    "<br> Their notifications have succeeded in the past and they are considering sending a message making users aware of this new category, through in-app notification. \n",
    "<br> But at the same time, they want to be judicious about any features or releases when it comes to their app because they know that LTV of a customer who has installed their app is much higher. \n",
    "<br> They want to be careful so as not to drive users to uninstall the app. \n",
    "\n",
    "\n",
    "<br> This project has 4 parts:\n",
    "* Business Problem\n",
    "* Data Undrestanding\n",
    "* Modeling and Evaluation\n",
    "* Conclusion\n"
   ]
  },
  {
   "cell_type": "markdown",
   "id": "746b93a5",
   "metadata": {},
   "source": [
    "<img src=\"images/problem_10266358.png\" width=\"100\" height=\"100\" align=left  >\n",
    " \n",
    "## Part 1: Business Problem\n",
    "\n",
    "* Because we have seen success through in-app notifications in the past if we send an in-app notification with a promotional offer for Lamps, then the % of users that purchase from the Lamp Category will increase. We can test this hyphotesis by running an A/B test.\n",
    "\n",
    "* \n",
    "\n",
    "\n",
    "\n",
    "\n",
    "\n",
    " <span style='color:navy'> * Primary Metrics: Conversion Rate <br> * Secondary metrics: Purchase Value <br> * Other metrics: Uninstall rate </span>"
   ]
  },
  {
   "cell_type": "code",
   "execution_count": 6,
   "id": "3ae31b13",
   "metadata": {},
   "outputs": [],
   "source": [
    "# Calculate sample size"
   ]
  },
  {
   "cell_type": "markdown",
   "id": "cba3e457",
   "metadata": {},
   "source": [
    "<img src=\"images/survey_10266430.png\" width=\"100\" height=\"100\" align=left  >\n",
    "\n",
    "\n",
    "## Part 2: Data Undrestanding"
   ]
  },
  {
   "cell_type": "code",
   "execution_count": 7,
   "id": "4a624771",
   "metadata": {},
   "outputs": [
    {
     "data": {
      "text/html": [
       "<div>\n",
       "<style scoped>\n",
       "    .dataframe tbody tr th:only-of-type {\n",
       "        vertical-align: middle;\n",
       "    }\n",
       "\n",
       "    .dataframe tbody tr th {\n",
       "        vertical-align: top;\n",
       "    }\n",
       "\n",
       "    .dataframe thead th {\n",
       "        text-align: right;\n",
       "    }\n",
       "</style>\n",
       "<table border=\"1\" class=\"dataframe\">\n",
       "  <thead>\n",
       "    <tr style=\"text-align: right;\">\n",
       "      <th></th>\n",
       "      <th>userid</th>\n",
       "      <th>allocation</th>\n",
       "      <th>active_6m</th>\n",
       "      <th>days_since</th>\n",
       "      <th>addtocart_flag</th>\n",
       "      <th>transaction_flag</th>\n",
       "      <th>purchase_value</th>\n",
       "      <th>uninstall_flag</th>\n",
       "    </tr>\n",
       "  </thead>\n",
       "  <tbody>\n",
       "    <tr>\n",
       "      <th>0</th>\n",
       "      <td>257597</td>\n",
       "      <td>treatment</td>\n",
       "      <td>0</td>\n",
       "      <td>236</td>\n",
       "      <td>0</td>\n",
       "      <td>0</td>\n",
       "      <td>NaN</td>\n",
       "      <td>0</td>\n",
       "    </tr>\n",
       "    <tr>\n",
       "      <th>1</th>\n",
       "      <td>992329</td>\n",
       "      <td>treatment</td>\n",
       "      <td>1</td>\n",
       "      <td>37</td>\n",
       "      <td>0</td>\n",
       "      <td>0</td>\n",
       "      <td>NaN</td>\n",
       "      <td>0</td>\n",
       "    </tr>\n",
       "    <tr>\n",
       "      <th>2</th>\n",
       "      <td>111016</td>\n",
       "      <td>control</td>\n",
       "      <td>1</td>\n",
       "      <td>41</td>\n",
       "      <td>0</td>\n",
       "      <td>0</td>\n",
       "      <td>NaN</td>\n",
       "      <td>0</td>\n",
       "    </tr>\n",
       "    <tr>\n",
       "      <th>3</th>\n",
       "      <td>483717</td>\n",
       "      <td>treatment</td>\n",
       "      <td>1</td>\n",
       "      <td>18</td>\n",
       "      <td>0</td>\n",
       "      <td>0</td>\n",
       "      <td>NaN</td>\n",
       "      <td>0</td>\n",
       "    </tr>\n",
       "    <tr>\n",
       "      <th>4</th>\n",
       "      <td>951259</td>\n",
       "      <td>control</td>\n",
       "      <td>0</td>\n",
       "      <td>256</td>\n",
       "      <td>0</td>\n",
       "      <td>0</td>\n",
       "      <td>NaN</td>\n",
       "      <td>0</td>\n",
       "    </tr>\n",
       "  </tbody>\n",
       "</table>\n",
       "</div>"
      ],
      "text/plain": [
       "   userid allocation  active_6m  days_since  addtocart_flag  transaction_flag  \\\n",
       "0  257597  treatment          0         236               0                 0   \n",
       "1  992329  treatment          1          37               0                 0   \n",
       "2  111016    control          1          41               0                 0   \n",
       "3  483717  treatment          1          18               0                 0   \n",
       "4  951259    control          0         256               0                 0   \n",
       "\n",
       "   purchase_value  uninstall_flag  \n",
       "0             NaN               0  \n",
       "1             NaN               0  \n",
       "2             NaN               0  \n",
       "3             NaN               0  \n",
       "4             NaN               0  "
      ]
     },
     "execution_count": 7,
     "metadata": {},
     "output_type": "execute_result"
    }
   ],
   "source": [
    "#Imports and Data Loading\n",
    "\n",
    "import pandas as pd\n",
    "import scipy.stats as stats\n",
    "#from scipy.stats import proportest, ttest_ind\n",
    "#from statsmodels.stats import proportion_test as proportest\n",
    "from scipy.stats import binomtest\n",
    "import scipy\n",
    "\n",
    "import seaborn as sns\n",
    "from matplotlib import pyplot as plt\n",
    "\n",
    "\n",
    "\n",
    "data = pd.read_csv(\"_AB_Test_Data.csv\")\n",
    "data.head()"
   ]
  },
  {
   "cell_type": "code",
   "execution_count": 8,
   "id": "ecbc5012",
   "metadata": {},
   "outputs": [
    {
     "name": "stdout",
     "output_type": "stream",
     "text": [
      "<class 'pandas.core.frame.DataFrame'>\n",
      "RangeIndex: 100000 entries, 0 to 99999\n",
      "Data columns (total 8 columns):\n",
      " #   Column            Non-Null Count   Dtype  \n",
      "---  ------            --------------   -----  \n",
      " 0   userid            100000 non-null  int64  \n",
      " 1   allocation        100000 non-null  object \n",
      " 2   active_6m         100000 non-null  int64  \n",
      " 3   days_since        100000 non-null  int64  \n",
      " 4   addtocart_flag    100000 non-null  int64  \n",
      " 5   transaction_flag  100000 non-null  int64  \n",
      " 6   purchase_value    13820 non-null   float64\n",
      " 7   uninstall_flag    100000 non-null  int64  \n",
      "dtypes: float64(1), int64(6), object(1)\n",
      "memory usage: 6.1+ MB\n"
     ]
    }
   ],
   "source": [
    "# Treatment indicator - allocation\n",
    "# Response variables - addtocart_flag, transaction_flag, purchase_value\n",
    "# Baseline variables - active_6m, days_since\n",
    "# Other - uninstall_flag\n",
    "\n",
    "data.info()"
   ]
  },
  {
   "cell_type": "code",
   "execution_count": 9,
   "id": "8c4b8957",
   "metadata": {},
   "outputs": [
    {
     "data": {
      "text/plain": [
       "treatment    50000\n",
       "control      50000\n",
       "Name: allocation, dtype: int64"
      ]
     },
     "execution_count": 9,
     "metadata": {},
     "output_type": "execute_result"
    }
   ],
   "source": [
    "data[\"allocation\"].value_counts()"
   ]
  },
  {
   "cell_type": "markdown",
   "id": "04c79057",
   "metadata": {},
   "source": [
    "\n",
    "\n",
    "##  <span style='color:Blue'> Based on histogram below: </span>\n",
    "\n",
    "1. The histogram appears right-skewed, meaning there are more frequent purchases towards the lower end of the average purchase value range (left side) and a longer tail extending towards higher average purchase values (right side).\n",
    "2. The most frequent purchase value range falls somewhere around 50-100 bucks.\n",
    "3. There are fewer purchases at higher average purchase values (above 100). However, the tail indicates that some customers are willing to spend significantly more.\n",
    "\n",
    "\n",
    "##  <span style='color:red'> Business insight: </span>\n",
    "\n",
    "We can analyze what products contribute to the higher end of the purchase value range to understand customer preferences in that segment."
   ]
  },
  {
   "cell_type": "code",
   "execution_count": 10,
   "id": "acc6552c",
   "metadata": {},
   "outputs": [
    {
     "data": {
      "text/plain": [
       "<AxesSubplot:ylabel='Frequency'>"
      ]
     },
     "execution_count": 10,
     "metadata": {},
     "output_type": "execute_result"
    },
    {
     "data": {
      "image/png": "[encoded data removed]",
      "text/plain": [
       "<Figure size 500x300 with 1 Axes>"
      ]
     },
     "metadata": {},
     "output_type": "display_data"
    }
   ],
   "source": [
    "data['purchase_value'].plot.hist(bins = 30, figsize = (5,3))"
   ]
  },
  {
   "cell_type": "markdown",
   "id": "afcaba82",
   "metadata": {},
   "source": [
    "\n",
    "\n",
    "##  <span style='color:Blue'> Based on histogram below: </span>\n",
    "\n",
    "1. Active Users: The presence of users across various days since last use indicates some level of active users returning to the app over time. \n",
    "2. User Engagement:However, the distribution suggests a decline in user engagement over time.\n",
    "3. Drop-off Rate: The histogram leans towards the left side, with a higher frequency of users returning within a shorter period (e.g., less than 10 days). This suggests a potential drop-off in user engagement after a certain period of inactivity.\n",
    "4. We can see a big jump in day 50th which need to investigate more.\n",
    "\n",
    "\n",
    "##  <span style='color:red'> Business insight: </span>\n",
    "\n",
    "We can analyze user engagement by demographics or past behavior to see if specific groups exhibit different usage patterns."
   ]
  },
  {
   "cell_type": "code",
   "execution_count": 11,
   "id": "0432680d",
   "metadata": {},
   "outputs": [
    {
     "data": {
      "text/plain": [
       "<AxesSubplot:ylabel='Frequency'>"
      ]
     },
     "execution_count": 11,
     "metadata": {},
     "output_type": "execute_result"
    },
    {
     "data": {
      "image/png": "[encoded data removed]",
      "text/plain": [
       "<Figure size 500x300 with 1 Axes>"
      ]
     },
     "metadata": {},
     "output_type": "display_data"
    }
   ],
   "source": [
    "data['days_since'].plot.hist(bins = 30, figsize = (5,3))"
   ]
  },
  {
   "cell_type": "code",
   "execution_count": 12,
   "id": "816480ab",
   "metadata": {},
   "outputs": [
    {
     "data": {
      "text/html": [
       "<div>\n",
       "<style scoped>\n",
       "    .dataframe tbody tr th:only-of-type {\n",
       "        vertical-align: middle;\n",
       "    }\n",
       "\n",
       "    .dataframe tbody tr th {\n",
       "        vertical-align: top;\n",
       "    }\n",
       "\n",
       "    .dataframe thead th {\n",
       "        text-align: right;\n",
       "    }\n",
       "</style>\n",
       "<table border=\"1\" class=\"dataframe\">\n",
       "  <thead>\n",
       "    <tr style=\"text-align: right;\">\n",
       "      <th></th>\n",
       "      <th>userid</th>\n",
       "      <th>allocation</th>\n",
       "      <th>active_6m</th>\n",
       "      <th>days_since</th>\n",
       "      <th>addtocart_flag</th>\n",
       "      <th>transaction_flag</th>\n",
       "      <th>purchase_value</th>\n",
       "      <th>uninstall_flag</th>\n",
       "    </tr>\n",
       "  </thead>\n",
       "  <tbody>\n",
       "    <tr>\n",
       "      <th>0</th>\n",
       "      <td>257597</td>\n",
       "      <td>treatment</td>\n",
       "      <td>0</td>\n",
       "      <td>236</td>\n",
       "      <td>0</td>\n",
       "      <td>0</td>\n",
       "      <td>NaN</td>\n",
       "      <td>0</td>\n",
       "    </tr>\n",
       "  </tbody>\n",
       "</table>\n",
       "</div>"
      ],
      "text/plain": [
       "   userid allocation  active_6m  days_since  addtocart_flag  transaction_flag  \\\n",
       "0  257597  treatment          0         236               0                 0   \n",
       "\n",
       "   purchase_value  uninstall_flag  \n",
       "0             NaN               0  "
      ]
     },
     "execution_count": 12,
     "metadata": {},
     "output_type": "execute_result"
    }
   ],
   "source": [
    "data.head(1)"
   ]
  },
  {
   "cell_type": "code",
   "execution_count": 13,
   "id": "91f1cff8",
   "metadata": {},
   "outputs": [
    {
     "data": {
      "text/html": [
       "<div>\n",
       "<style scoped>\n",
       "    .dataframe tbody tr th:only-of-type {\n",
       "        vertical-align: middle;\n",
       "    }\n",
       "\n",
       "    .dataframe tbody tr th {\n",
       "        vertical-align: top;\n",
       "    }\n",
       "\n",
       "    .dataframe thead th {\n",
       "        text-align: right;\n",
       "    }\n",
       "</style>\n",
       "<table border=\"1\" class=\"dataframe\">\n",
       "  <thead>\n",
       "    <tr style=\"text-align: right;\">\n",
       "      <th></th>\n",
       "      <th>transaction_flag</th>\n",
       "      <th>purchase_value</th>\n",
       "      <th>addtocart_flag</th>\n",
       "    </tr>\n",
       "    <tr>\n",
       "      <th>allocation</th>\n",
       "      <th></th>\n",
       "      <th></th>\n",
       "      <th></th>\n",
       "    </tr>\n",
       "  </thead>\n",
       "  <tbody>\n",
       "    <tr>\n",
       "      <th>control</th>\n",
       "      <td>0.10118</td>\n",
       "      <td>271.924279</td>\n",
       "      <td>0.23570</td>\n",
       "    </tr>\n",
       "    <tr>\n",
       "      <th>treatment</th>\n",
       "      <td>0.17522</td>\n",
       "      <td>323.430082</td>\n",
       "      <td>0.27698</td>\n",
       "    </tr>\n",
       "  </tbody>\n",
       "</table>\n",
       "</div>"
      ],
      "text/plain": [
       "            transaction_flag  purchase_value  addtocart_flag\n",
       "allocation                                                  \n",
       "control              0.10118      271.924279         0.23570\n",
       "treatment            0.17522      323.430082         0.27698"
      ]
     },
     "execution_count": 13,
     "metadata": {},
     "output_type": "execute_result"
    }
   ],
   "source": [
    "# Check for randomization - baseline variables\n",
    "\n",
    "data2 = data.groupby([\"allocation\"]).agg({'transaction_flag':'mean', 'purchase_value':'mean',\n",
    "                                         'addtocart_flag':'mean', })\n",
    "\n",
    "#Group means are similar between groups\n",
    "data2"
   ]
  },
  {
   "cell_type": "markdown",
   "id": "8bc7a7e7",
   "metadata": {},
   "source": [
    "<img src=\"images/creative-writing_10266412.png\" width=\"100\" height=\"100\" align=left  >\n",
    "\n",
    "\n",
    "## Part 3: Modeling and Evaluation"
   ]
  },
  {
   "cell_type": "markdown",
   "id": "e203dafa",
   "metadata": {},
   "source": [
    "## Comparing Conversion Rates: prop.test"
   ]
  },
  {
   "cell_type": "code",
   "execution_count": 14,
   "id": "c8570caa",
   "metadata": {},
   "outputs": [],
   "source": [
    "import scipy.stats.distributions as dist"
   ]
  },
  {
   "cell_type": "code",
   "execution_count": 15,
   "id": "84b7b109",
   "metadata": {},
   "outputs": [
    {
     "data": {
      "text/html": [
       "<div>\n",
       "<style scoped>\n",
       "    .dataframe tbody tr th:only-of-type {\n",
       "        vertical-align: middle;\n",
       "    }\n",
       "\n",
       "    .dataframe tbody tr th {\n",
       "        vertical-align: top;\n",
       "    }\n",
       "\n",
       "    .dataframe thead th {\n",
       "        text-align: right;\n",
       "    }\n",
       "</style>\n",
       "<table border=\"1\" class=\"dataframe\">\n",
       "  <thead>\n",
       "    <tr style=\"text-align: right;\">\n",
       "      <th></th>\n",
       "      <th>userid</th>\n",
       "      <th>allocation</th>\n",
       "      <th>active_6m</th>\n",
       "      <th>days_since</th>\n",
       "      <th>addtocart_flag</th>\n",
       "      <th>transaction_flag</th>\n",
       "      <th>purchase_value</th>\n",
       "      <th>uninstall_flag</th>\n",
       "    </tr>\n",
       "  </thead>\n",
       "  <tbody>\n",
       "    <tr>\n",
       "      <th>0</th>\n",
       "      <td>257597</td>\n",
       "      <td>treatment</td>\n",
       "      <td>0</td>\n",
       "      <td>236</td>\n",
       "      <td>0</td>\n",
       "      <td>0</td>\n",
       "      <td>NaN</td>\n",
       "      <td>0</td>\n",
       "    </tr>\n",
       "  </tbody>\n",
       "</table>\n",
       "</div>"
      ],
      "text/plain": [
       "   userid allocation  active_6m  days_since  addtocart_flag  transaction_flag  \\\n",
       "0  257597  treatment          0         236               0                 0   \n",
       "\n",
       "   purchase_value  uninstall_flag  \n",
       "0             NaN               0  "
      ]
     },
     "execution_count": 15,
     "metadata": {},
     "output_type": "execute_result"
    }
   ],
   "source": [
    "data.head(1)"
   ]
  },
  {
   "cell_type": "code",
   "execution_count": 16,
   "id": "837dfd5c",
   "metadata": {},
   "outputs": [
    {
     "data": {
      "text/html": [
       "<div>\n",
       "<style scoped>\n",
       "    .dataframe tbody tr th:only-of-type {\n",
       "        vertical-align: middle;\n",
       "    }\n",
       "\n",
       "    .dataframe tbody tr th {\n",
       "        vertical-align: top;\n",
       "    }\n",
       "\n",
       "    .dataframe thead th {\n",
       "        text-align: right;\n",
       "    }\n",
       "</style>\n",
       "<table border=\"1\" class=\"dataframe\">\n",
       "  <thead>\n",
       "    <tr style=\"text-align: right;\">\n",
       "      <th>addtocart_flag</th>\n",
       "      <th>0</th>\n",
       "      <th>1</th>\n",
       "    </tr>\n",
       "    <tr>\n",
       "      <th>allocation</th>\n",
       "      <th></th>\n",
       "      <th></th>\n",
       "    </tr>\n",
       "  </thead>\n",
       "  <tbody>\n",
       "    <tr>\n",
       "      <th>control</th>\n",
       "      <td>38215</td>\n",
       "      <td>11785</td>\n",
       "    </tr>\n",
       "    <tr>\n",
       "      <th>treatment</th>\n",
       "      <td>36151</td>\n",
       "      <td>13849</td>\n",
       "    </tr>\n",
       "  </tbody>\n",
       "</table>\n",
       "</div>"
      ],
      "text/plain": [
       "addtocart_flag      0      1\n",
       "allocation                  \n",
       "control         38215  11785\n",
       "treatment       36151  13849"
      ]
     },
     "execution_count": 16,
     "metadata": {},
     "output_type": "execute_result"
    }
   ],
   "source": [
    "contingency_table = pd.crosstab(data[\"allocation\"] ,data[\"addtocart_flag\"]) \n",
    "contingency_table"
   ]
  },
  {
   "cell_type": "code",
   "execution_count": 17,
   "id": "e1c5eb7f",
   "metadata": {},
   "outputs": [
    {
     "data": {
      "text/html": [
       "<div>\n",
       "<style scoped>\n",
       "    .dataframe tbody tr th:only-of-type {\n",
       "        vertical-align: middle;\n",
       "    }\n",
       "\n",
       "    .dataframe tbody tr th {\n",
       "        vertical-align: top;\n",
       "    }\n",
       "\n",
       "    .dataframe thead th {\n",
       "        text-align: right;\n",
       "    }\n",
       "</style>\n",
       "<table border=\"1\" class=\"dataframe\">\n",
       "  <thead>\n",
       "    <tr style=\"text-align: right;\">\n",
       "      <th>addtocart_flag</th>\n",
       "      <th>0</th>\n",
       "      <th>1</th>\n",
       "    </tr>\n",
       "    <tr>\n",
       "      <th>allocation</th>\n",
       "      <th></th>\n",
       "      <th></th>\n",
       "    </tr>\n",
       "  </thead>\n",
       "  <tbody>\n",
       "    <tr>\n",
       "      <th>control</th>\n",
       "      <td>0.513877</td>\n",
       "      <td>0.459741</td>\n",
       "    </tr>\n",
       "    <tr>\n",
       "      <th>treatment</th>\n",
       "      <td>0.486123</td>\n",
       "      <td>0.540259</td>\n",
       "    </tr>\n",
       "  </tbody>\n",
       "</table>\n",
       "</div>"
      ],
      "text/plain": [
       "addtocart_flag         0         1\n",
       "allocation                        \n",
       "control         0.513877  0.459741\n",
       "treatment       0.486123  0.540259"
      ]
     },
     "execution_count": 17,
     "metadata": {},
     "output_type": "execute_result"
    }
   ],
   "source": [
    "# convert the above numbers into proportions, to get an idea!\n",
    "pd.crosstab(data[\"allocation\"],data[\"addtocart_flag\"]).apply(lambda r:r/r.sum(),axis=0)"
   ]
  },
  {
   "cell_type": "markdown",
   "id": "0a0fb9e7",
   "metadata": {},
   "source": [
    "Based on contingency table, there is significant difference between proportions of convert rate between treatment and control group.\n"
   ]
  },
  {
   "cell_type": "code",
   "execution_count": 18,
   "id": "550fd9d0",
   "metadata": {},
   "outputs": [],
   "source": [
    "from scipy.stats import binomtest"
   ]
  },
  {
   "cell_type": "code",
   "execution_count": 19,
   "id": "24973a59",
   "metadata": {},
   "outputs": [
    {
     "data": {
      "text/html": [
       "<div>\n",
       "<style scoped>\n",
       "    .dataframe tbody tr th:only-of-type {\n",
       "        vertical-align: middle;\n",
       "    }\n",
       "\n",
       "    .dataframe tbody tr th {\n",
       "        vertical-align: top;\n",
       "    }\n",
       "\n",
       "    .dataframe thead th {\n",
       "        text-align: right;\n",
       "    }\n",
       "</style>\n",
       "<table border=\"1\" class=\"dataframe\">\n",
       "  <thead>\n",
       "    <tr style=\"text-align: right;\">\n",
       "      <th></th>\n",
       "      <th>userid</th>\n",
       "      <th>allocation</th>\n",
       "      <th>active_6m</th>\n",
       "      <th>days_since</th>\n",
       "      <th>addtocart_flag</th>\n",
       "      <th>transaction_flag</th>\n",
       "      <th>purchase_value</th>\n",
       "      <th>uninstall_flag</th>\n",
       "    </tr>\n",
       "  </thead>\n",
       "  <tbody>\n",
       "    <tr>\n",
       "      <th>0</th>\n",
       "      <td>257597</td>\n",
       "      <td>treatment</td>\n",
       "      <td>0</td>\n",
       "      <td>236</td>\n",
       "      <td>0</td>\n",
       "      <td>0</td>\n",
       "      <td>NaN</td>\n",
       "      <td>0</td>\n",
       "    </tr>\n",
       "  </tbody>\n",
       "</table>\n",
       "</div>"
      ],
      "text/plain": [
       "   userid allocation  active_6m  days_since  addtocart_flag  transaction_flag  \\\n",
       "0  257597  treatment          0         236               0                 0   \n",
       "\n",
       "   purchase_value  uninstall_flag  \n",
       "0             NaN               0  "
      ]
     },
     "execution_count": 19,
     "metadata": {},
     "output_type": "execute_result"
    }
   ],
   "source": [
    "data.head(1)"
   ]
  },
  {
   "cell_type": "code",
   "execution_count": 20,
   "id": "76113f45",
   "metadata": {},
   "outputs": [
    {
     "name": "stdout",
     "output_type": "stream",
     "text": [
      "            addtocart_flag\n",
      "allocation                \n",
      "control              50000\n",
      "treatment            50000\n"
     ]
    }
   ],
   "source": [
    "# Assuming 'group' and 'success' (binary: 0 or 1) are your columns\n",
    "\n",
    "contingency_table = pd.pivot_table(data, values='addtocart_flag', index='allocation', aggfunc='count')\n",
    "print(contingency_table)"
   ]
  },
  {
   "cell_type": "code",
   "execution_count": 25,
   "id": "4768a0da",
   "metadata": {},
   "outputs": [
    {
     "data": {
      "text/html": [
       "<div>\n",
       "<style scoped>\n",
       "    .dataframe tbody tr th:only-of-type {\n",
       "        vertical-align: middle;\n",
       "    }\n",
       "\n",
       "    .dataframe tbody tr th {\n",
       "        vertical-align: top;\n",
       "    }\n",
       "\n",
       "    .dataframe thead th {\n",
       "        text-align: right;\n",
       "    }\n",
       "</style>\n",
       "<table border=\"1\" class=\"dataframe\">\n",
       "  <thead>\n",
       "    <tr style=\"text-align: right;\">\n",
       "      <th>addtocart_flag</th>\n",
       "      <th>0</th>\n",
       "      <th>1</th>\n",
       "    </tr>\n",
       "    <tr>\n",
       "      <th>allocation</th>\n",
       "      <th></th>\n",
       "      <th></th>\n",
       "    </tr>\n",
       "  </thead>\n",
       "  <tbody>\n",
       "    <tr>\n",
       "      <th>control</th>\n",
       "      <td>38215</td>\n",
       "      <td>11785</td>\n",
       "    </tr>\n",
       "    <tr>\n",
       "      <th>treatment</th>\n",
       "      <td>36151</td>\n",
       "      <td>13849</td>\n",
       "    </tr>\n",
       "  </tbody>\n",
       "</table>\n",
       "</div>"
      ],
      "text/plain": [
       "addtocart_flag      0      1\n",
       "allocation                  \n",
       "control         38215  11785\n",
       "treatment       36151  13849"
      ]
     },
     "execution_count": 25,
     "metadata": {},
     "output_type": "execute_result"
    }
   ],
   "source": [
    "contingency_table = pd.crosstab(data[\"allocation\"] ,data[\"addtocart_flag\"]) \n",
    "contingency_table"
   ]
  },
  {
   "cell_type": "code",
   "execution_count": 27,
   "id": "40bcb6ff",
   "metadata": {},
   "outputs": [
    {
     "data": {
      "text/plain": [
       "BinomTestResult(k=50000, n=100000, alternative='two-sided', proportion_estimate=0.5, pvalue=1.0)"
      ]
     },
     "execution_count": 27,
     "metadata": {},
     "output_type": "execute_result"
    }
   ],
   "source": [
    "# Perform the test\n",
    "total_trials = contingency_table.sum().sum()  # Total number of trials\n",
    "\n",
    "p1 = contingency_table.iloc[0].sum() / total_trials  # Proportion of successes in group 1\n",
    "\n",
    "pval = binomtest(contingency_table.iloc[0].sum(), total_trials, p1)\n",
    "\n",
    "pval"
   ]
  },
  {
   "cell_type": "markdown",
   "id": "5c4cd97d",
   "metadata": {},
   "source": [
    "## Comparing Purchase Values: t-test"
   ]
  },
  {
   "cell_type": "code",
   "execution_count": 22,
   "id": "cc3aa114",
   "metadata": {},
   "outputs": [
    {
     "data": {
      "text/plain": [
       "Ttest_indResult(statistic=-23.44362913212496, pvalue=1.0361199370432673e-117)"
      ]
     },
     "execution_count": 22,
     "metadata": {},
     "output_type": "execute_result"
    }
   ],
   "source": [
    "\n",
    "control= data[data[\"allocation\"] == \"control\"]\n",
    "\n",
    "treatment= data[data[\"allocation\"] == \"treatment\"]\n",
    "\n",
    "# Find the P-value\n",
    "\n",
    "stats.ttest_ind(a= control.dropna()[\"purchase_value\"] ,b= treatment.dropna()[\"purchase_value\"] ,\n",
    "                equal_var=False)"
   ]
  },
  {
   "cell_type": "code",
   "execution_count": 23,
   "id": "562bbba3",
   "metadata": {},
   "outputs": [
    {
     "name": "stdout",
     "output_type": "stream",
     "text": [
      "271.92427899728\n",
      "323.43008177994784\n"
     ]
    }
   ],
   "source": [
    "print(control[\"purchase_value\"].mean())\n",
    "print(treatment[\"purchase_value\"].mean())"
   ]
  },
  {
   "cell_type": "markdown",
   "id": "ac3dcd3d",
   "metadata": {},
   "source": [
    "\n",
    "\n",
    "\n",
    "###  <span style='color:darkred'> <br>  Although the avg purchase value in treatment group is higher (18%) than control group, but the high p-value shows this difference is not statisticaly significant. <br> In other words, it’s highly likely that the difference in the two means is due to chance. </span>"
   ]
  },
  {
   "cell_type": "code",
   "execution_count": 25,
   "id": "0a29346c",
   "metadata": {},
   "outputs": [
    {
     "data": {
      "image/png": "[encoded data removed]",
      "text/plain": [
       "<Figure size 640x480 with 1 Axes>"
      ]
     },
     "metadata": {},
     "output_type": "display_data"
    }
   ],
   "source": [
    "# Plotting the data\n",
    "plt.hist(control[\"purchase_value\"], alpha=0.5, label='control')\n",
    "plt.hist(treatment[\"purchase_value\"], alpha=0.5, label='treatment')\n",
    "\n",
    "plt.axvline(control[\"purchase_value\"].mean(), color='r', linestyle='dashed', linewidth=1)\n",
    "plt.axvline(treatment[\"purchase_value\"].mean(), color='b', linestyle='dashed', linewidth=1)\n",
    "plt.legend(loc='upper right')\n",
    "plt.show()"
   ]
  },
  {
   "cell_type": "markdown",
   "id": "fac0e5fc",
   "metadata": {},
   "source": [
    "## transaction_flag"
   ]
  },
  {
   "cell_type": "code",
   "execution_count": 28,
   "id": "43c8b886",
   "metadata": {},
   "outputs": [
    {
     "data": {
      "text/html": [
       "<div>\n",
       "<style scoped>\n",
       "    .dataframe tbody tr th:only-of-type {\n",
       "        vertical-align: middle;\n",
       "    }\n",
       "\n",
       "    .dataframe tbody tr th {\n",
       "        vertical-align: top;\n",
       "    }\n",
       "\n",
       "    .dataframe thead th {\n",
       "        text-align: right;\n",
       "    }\n",
       "</style>\n",
       "<table border=\"1\" class=\"dataframe\">\n",
       "  <thead>\n",
       "    <tr style=\"text-align: right;\">\n",
       "      <th></th>\n",
       "      <th>userid</th>\n",
       "      <th>allocation</th>\n",
       "      <th>active_6m</th>\n",
       "      <th>days_since</th>\n",
       "      <th>addtocart_flag</th>\n",
       "      <th>transaction_flag</th>\n",
       "      <th>purchase_value</th>\n",
       "      <th>uninstall_flag</th>\n",
       "    </tr>\n",
       "  </thead>\n",
       "  <tbody>\n",
       "    <tr>\n",
       "      <th>0</th>\n",
       "      <td>257597</td>\n",
       "      <td>treatment</td>\n",
       "      <td>0</td>\n",
       "      <td>236</td>\n",
       "      <td>0</td>\n",
       "      <td>0</td>\n",
       "      <td>NaN</td>\n",
       "      <td>0</td>\n",
       "    </tr>\n",
       "  </tbody>\n",
       "</table>\n",
       "</div>"
      ],
      "text/plain": [
       "   userid allocation  active_6m  days_since  addtocart_flag  transaction_flag  \\\n",
       "0  257597  treatment          0         236               0                 0   \n",
       "\n",
       "   purchase_value  uninstall_flag  \n",
       "0             NaN               0  "
      ]
     },
     "execution_count": 28,
     "metadata": {},
     "output_type": "execute_result"
    }
   ],
   "source": [
    "data.head(1)"
   ]
  },
  {
   "cell_type": "code",
   "execution_count": 29,
   "id": "b79cb49b",
   "metadata": {},
   "outputs": [
    {
     "data": {
      "text/html": [
       "<div>\n",
       "<style scoped>\n",
       "    .dataframe tbody tr th:only-of-type {\n",
       "        vertical-align: middle;\n",
       "    }\n",
       "\n",
       "    .dataframe tbody tr th {\n",
       "        vertical-align: top;\n",
       "    }\n",
       "\n",
       "    .dataframe thead th {\n",
       "        text-align: right;\n",
       "    }\n",
       "</style>\n",
       "<table border=\"1\" class=\"dataframe\">\n",
       "  <thead>\n",
       "    <tr style=\"text-align: right;\">\n",
       "      <th>transaction_flag</th>\n",
       "      <th>0</th>\n",
       "      <th>1</th>\n",
       "    </tr>\n",
       "    <tr>\n",
       "      <th>allocation</th>\n",
       "      <th></th>\n",
       "      <th></th>\n",
       "    </tr>\n",
       "  </thead>\n",
       "  <tbody>\n",
       "    <tr>\n",
       "      <th>control</th>\n",
       "      <td>44941</td>\n",
       "      <td>5059</td>\n",
       "    </tr>\n",
       "    <tr>\n",
       "      <th>treatment</th>\n",
       "      <td>41239</td>\n",
       "      <td>8761</td>\n",
       "    </tr>\n",
       "  </tbody>\n",
       "</table>\n",
       "</div>"
      ],
      "text/plain": [
       "transaction_flag      0     1\n",
       "allocation                   \n",
       "control           44941  5059\n",
       "treatment         41239  8761"
      ]
     },
     "execution_count": 29,
     "metadata": {},
     "output_type": "execute_result"
    }
   ],
   "source": [
    "contingency_table1 = pd.crosstab(data[\"allocation\"] ,data[\"transaction_flag\"]) \n",
    "contingency_table1"
   ]
  },
  {
   "cell_type": "code",
   "execution_count": 30,
   "id": "cefa99a8",
   "metadata": {},
   "outputs": [
    {
     "data": {
      "text/plain": [
       "BinomTestResult(k=50000, n=100000, alternative='two-sided', proportion_estimate=0.5, pvalue=1.0)"
      ]
     },
     "execution_count": 30,
     "metadata": {},
     "output_type": "execute_result"
    }
   ],
   "source": [
    "# Perform the test\n",
    "total_trials1 = contingency_table1.sum().sum()  # Total number of trials\n",
    "\n",
    "p11 = contingency_table1.iloc[0].sum() / total_trials1  # Proportion of successes in group 1\n",
    "\n",
    "pval_1 = binomtest(contingency_table1.iloc[0].sum(), total_trials1, p11)\n",
    "\n",
    "pval_1"
   ]
  },
  {
   "cell_type": "markdown",
   "id": "20824b51",
   "metadata": {},
   "source": [
    "uninstall_flag"
   ]
  },
  {
   "cell_type": "code",
   "execution_count": 31,
   "id": "f1b834d7",
   "metadata": {},
   "outputs": [
    {
     "data": {
      "text/html": [
       "<div>\n",
       "<style scoped>\n",
       "    .dataframe tbody tr th:only-of-type {\n",
       "        vertical-align: middle;\n",
       "    }\n",
       "\n",
       "    .dataframe tbody tr th {\n",
       "        vertical-align: top;\n",
       "    }\n",
       "\n",
       "    .dataframe thead th {\n",
       "        text-align: right;\n",
       "    }\n",
       "</style>\n",
       "<table border=\"1\" class=\"dataframe\">\n",
       "  <thead>\n",
       "    <tr style=\"text-align: right;\">\n",
       "      <th>uninstall_flag</th>\n",
       "      <th>0</th>\n",
       "      <th>1</th>\n",
       "    </tr>\n",
       "    <tr>\n",
       "      <th>allocation</th>\n",
       "      <th></th>\n",
       "      <th></th>\n",
       "    </tr>\n",
       "  </thead>\n",
       "  <tbody>\n",
       "    <tr>\n",
       "      <th>control</th>\n",
       "      <td>48503</td>\n",
       "      <td>1497</td>\n",
       "    </tr>\n",
       "    <tr>\n",
       "      <th>treatment</th>\n",
       "      <td>47487</td>\n",
       "      <td>2513</td>\n",
       "    </tr>\n",
       "  </tbody>\n",
       "</table>\n",
       "</div>"
      ],
      "text/plain": [
       "uninstall_flag      0     1\n",
       "allocation                 \n",
       "control         48503  1497\n",
       "treatment       47487  2513"
      ]
     },
     "execution_count": 31,
     "metadata": {},
     "output_type": "execute_result"
    }
   ],
   "source": [
    "contingency_table2 = pd.crosstab(data[\"allocation\"] ,data[\"uninstall_flag\"]) \n",
    "contingency_table2"
   ]
  },
  {
   "cell_type": "code",
   "execution_count": null,
   "id": "f1c10c85",
   "metadata": {},
   "outputs": [],
   "source": [
    "# Perform the test\n",
    "total_trials1 = contingency_table1.sum().sum()  # Total number of trials\n",
    "\n",
    "p11 = contingency_table1.iloc[0].sum() / total_trials1  # Proportion of successes in group 1\n",
    "\n",
    "pval_1 = binomtest(contingency_table1.iloc[0].sum(), total_trials1, p11)\n",
    "\n",
    "pval_1"
   ]
  },
  {
   "cell_type": "code",
   "execution_count": 32,
   "id": "81dd91c6",
   "metadata": {},
   "outputs": [],
   "source": [
    "from statsmodels.stats.proportion import proportions_ztest"
   ]
  },
  {
   "cell_type": "code",
   "execution_count": null,
   "id": "2f8a9fa3",
   "metadata": {},
   "outputs": [],
   "source": []
  }
 ],
 "metadata": {
  "kernelspec": {
   "display_name": "Python 3 (ipykernel)",
   "language": "python",
   "name": "python3"
  },
  "language_info": {
   "codemirror_mode": {
    "name": "ipython",
    "version": 3
   },
   "file_extension": ".py",
   "mimetype": "text/x-python",
   "name": "python",
   "nbconvert_exporter": "python",
   "pygments_lexer": "ipython3",
   "version": "3.9.13"
  }
 },
 "nbformat": 4,
 "nbformat_minor": 5
}
